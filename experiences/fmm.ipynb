{
 "cells": [
  {
   "cell_type": "code",
   "execution_count": 90,
   "metadata": {},
   "outputs": [],
   "source": [
    "# !pip install scikit-fmm\n",
    "# !pip install matplotlib\n",
    "# !pip install scipy"
   ]
  },
  {
   "cell_type": "code",
   "execution_count": 91,
   "metadata": {},
   "outputs": [],
   "source": [
    "import skfmm\n",
    "import numpy as np\n",
    "import pylab as pl\n",
    "import matplotlib.pyplot as plt\n",
    "from scipy.ndimage import distance_transform_edt"
   ]
  },
  {
   "cell_type": "markdown",
   "metadata": {},
   "source": [
    "# Model Specifications"
   ]
  },
  {
   "cell_type": "code",
   "execution_count": 92,
   "metadata": {},
   "outputs": [],
   "source": [
    "v0 = 2.  # Velocity at the origin of the model\n",
    "vergrad = 0.5  # Vertical gradient\n",
    "horgrad = 0.  # Horizontal gradient\n",
    "\n",
    "zmin = 0.; zmax = 2.; deltaz = 0.02\n",
    "xmin = 0.; xmax = 2.; deltax = 0.02\n",
    "\n",
    "# Point-source location\n",
    "sz = 1.0; sx = 1.0"
   ]
  },
  {
   "cell_type": "code",
   "execution_count": 93,
   "metadata": {},
   "outputs": [],
   "source": [
    "z = np.arange(zmin, zmax + deltaz, deltaz)\n",
    "nz = z.size\n",
    "\n",
    "x = np.arange(xmin, xmax + deltax, deltax)\n",
    "nx = x.size\n",
    "\n",
    "Z, X = np.meshgrid(z, x, indexing='ij')"
   ]
  },
  {
   "cell_type": "code",
   "execution_count": 94,
   "metadata": {},
   "outputs": [],
   "source": [
    "# Create signed distance function \n",
    "phi = np.ones((nz, nx)) * 1000\n",
    "\n",
    "# Iterate through phi array and calculate distances\n",
    "for i in range(nz):\n",
    "  for j in range(nx):\n",
    "    distance = np.sqrt((i - nz)**2 + (j - nx)**2)\n",
    "    phi[j, i] = distance\n",
    "\n",
    "# # Iterate through phi array and calculate Manhattan distances\n",
    "# for i in range(nz):\n",
    "#   for j in range(nx):\n",
    "#     distance = np.abs(i - 50) + np.abs(j - 50)\n",
    "#     phi[j, i] = distance\n",
    "\n",
    "# Set source point distance to zero\n",
    "phi[50, 50] = 0"
   ]
  },
  {
   "cell_type": "markdown",
   "metadata": {},
   "source": [
    "# Mask and Velocity"
   ]
  },
  {
   "cell_type": "code",
   "execution_count": 95,
   "metadata": {},
   "outputs": [],
   "source": [
    "# Define velocity model with two layers\n",
    "speed = np.ones((nz, nx)) * 5 # Initialize velocity model array\n",
    "\n",
    "# Define square box location and size\n",
    "box_center_z = 1.0\n",
    "box_center_x = 1.0\n",
    "box_half_width = 0.5\n",
    "\n",
    "# Set velocity inside the square box to 3\n",
    "speed[25:75, 25:75] = 3"
   ]
  },
  {
   "cell_type": "code",
   "execution_count": 96,
   "metadata": {},
   "outputs": [],
   "source": [
    "# phi  = np.ma.MaskedArray(phi, box_mask)"
   ]
  },
  {
   "cell_type": "code",
   "execution_count": 97,
   "metadata": {},
   "outputs": [],
   "source": [
    "t    = skfmm.travel_time(phi, speed, dx=0.0001)"
   ]
  },
  {
   "cell_type": "code",
   "execution_count": 98,
   "metadata": {},
   "outputs": [],
   "source": [
    "t = np.array(t)"
   ]
  },
  {
   "cell_type": "code",
   "execution_count": 99,
   "metadata": {},
   "outputs": [],
   "source": [
    "np.save('../experiences/fsm_output/box1.npy', t)"
   ]
  }
 ],
 "metadata": {
  "kernelspec": {
   "display_name": ".venv",
   "language": "python",
   "name": "python3"
  },
  "language_info": {
   "codemirror_mode": {
    "name": "ipython",
    "version": 3
   },
   "file_extension": ".py",
   "mimetype": "text/x-python",
   "name": "python",
   "nbconvert_exporter": "python",
   "pygments_lexer": "ipython3",
   "version": "3.11.7"
  }
 },
 "nbformat": 4,
 "nbformat_minor": 2
}
