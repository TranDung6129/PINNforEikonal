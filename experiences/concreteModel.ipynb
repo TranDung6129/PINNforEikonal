{
 "cells": [
  {
   "cell_type": "code",
   "execution_count": 1,
   "metadata": {},
   "outputs": [
    {
     "name": "stdout",
     "output_type": "stream",
     "text": [
      "---------------------- SCIANN 0.7.0.1 ---------------------- \n",
      "For details, check out our review paper and the documentation at: \n",
      " +  \"https://www.sciencedirect.com/science/article/pii/S0045782520307374\", \n",
      " +  \"https://arxiv.org/abs/2005.08803\", \n",
      " +  \"https://www.sciann.com\". \n",
      "\n",
      " Need support or would like to contribute, please join sciann`s slack group: \n",
      " +  \"https://join.slack.com/t/sciann/shared_invite/zt-ne1f5jlx-k_dY8RGo3ZreDXwz0f~CeA\" \n",
      " \n",
      "TensorFlow Version: 2.11.0 \n",
      "Python Version: 3.7.9 (tags/v3.7.9:13c94747c7, Aug 17 2020, 18:58:18) [MSC v.1900 64 bit (AMD64)] \n",
      "\n"
     ]
    }
   ],
   "source": [
    "import numpy as np\n",
    "import pandas as pd\n",
    "import matplotlib.pyplot as plt\n",
    "from mpl_toolkits.axes_grid1 import make_axes_locatable\n",
    "import tensorflow as tf\n",
    "from sciann import Functional, Variable, SciModel, PDE\n",
    "from sciann.utils import *\n",
    "import scipy.io \n",
    "import time\n",
    "import random\n",
    "\n",
    "tf.config.threading.set_intra_op_parallelism_threads(1)\n",
    "tf.config.threading.set_inter_op_parallelism_threads(1)"
   ]
  },
  {
   "cell_type": "markdown",
   "metadata": {},
   "source": [
    "# Model specifications"
   ]
  },
  {
   "cell_type": "code",
   "execution_count": 5,
   "metadata": {},
   "outputs": [],
   "source": [
    "# Space parameters\n",
    "nx, nz = 240, 240\n",
    "dx, dz = 0.01, 0.01\n",
    "x = np.arange(0, nx*dx, dx)\n",
    "z = np.arange(0, nz*dz, dz)\n",
    "\n",
    "pad = 10\n",
    "center = [nz / 2, nx / 2] # center of velmodel\n",
    "x0 = nx / 2 * dx \n",
    "z0 = nz / 2 * dz # x and z coordinates of the center of the velmodel\n",
    "radius = 1\n",
    "\n",
    "r = 1.83/2 # radius of a smaller circular region\n",
    "n = 8 # number of receivers and sources\n",
    "tet = np.linspace(-np.pi, np.pi, n + 1) # array of angles for placing the points around the circle\n",
    "xi = r * np.cos(tet) + x0 # x-coordinates of sources and receivers\n",
    "zi = r * np.sin(tet) + z0 # z-coordinates of sources and receivers\n",
    "\n",
    "xi = xi[:-1]  # Slices the array to remove the last element\n",
    "zi = zi[:-1]  # Slices the array to remove the last element"
   ]
  },
  {
   "cell_type": "markdown",
   "metadata": {},
   "source": [
    "## Source location"
   ]
  },
  {
   "cell_type": "code",
   "execution_count": 7,
   "metadata": {},
   "outputs": [],
   "source": [
    "sx = np.round(xi / dx).astype(int)  # x-coordinates of sources and receivers in grid points\n",
    "sz = np.round(zi / dz).astype(int)  # z-coordinates of sources and receivers in grid points\n",
    "Ns = len(sx) # number of sources\n",
    "s = [sz.T, sx.T] # source and receiver coordinates"
   ]
  },
  {
   "cell_type": "markdown",
   "metadata": {},
   "source": [
    "## Receiver positions"
   ]
  },
  {
   "cell_type": "code",
   "execution_count": 10,
   "metadata": {},
   "outputs": [],
   "source": [
    "rx = sx\n",
    "rz = sz\n",
    "r = s\n",
    "Nr = len(rx) # number of receivers"
   ]
  },
  {
   "cell_type": "markdown",
   "metadata": {},
   "source": [
    "## Source-Receiver distances"
   ]
  },
  {
   "cell_type": "code",
   "execution_count": 12,
   "metadata": {},
   "outputs": [],
   "source": [
    "distances = np.zeros((Nr, Ns))\n",
    "for i in range(1, Ns):\n",
    "    distances[i, :] = np.sqrt((rx - sx[i])**2 * dx**2 + (rz - sz[i])**2 * dz**2)"
   ]
  },
  {
   "cell_type": "markdown",
   "metadata": {},
   "source": [
    "## Time parameters of observed data"
   ]
  },
  {
   "cell_type": "code",
   "execution_count": 15,
   "metadata": {},
   "outputs": [],
   "source": [
    "tmax = 1/1000\n",
    "dts = 1/500000\n",
    "ts = np.arange(0, tmax + dts, dts) # time axis\n",
    "nts = len(ts)"
   ]
  },
  {
   "cell_type": "markdown",
   "metadata": {},
   "source": [
    "## Filtering and normalizing the data"
   ]
  },
  {
   "cell_type": "code",
   "execution_count": 16,
   "metadata": {},
   "outputs": [],
   "source": [
    "lapalacian = 2\n",
    "\n",
    "filt = [20, 30, 60, 70] * 1000\n",
    "\n",
    "fmin = [filt[1], filt[1] - filt[0]]\n",
    "fmax = [filt[2], filt[3] - filt[2]]\n",
    "phase = 0\n",
    "max_atten = 80 # maximum attenuation in dB"
   ]
  },
  {
   "cell_type": "markdown",
   "metadata": {},
   "source": [
    "## Windowing"
   ]
  },
  {
   "cell_type": "code",
   "execution_count": null,
   "metadata": {},
   "outputs": [],
   "source": []
  },
  {
   "cell_type": "markdown",
   "metadata": {},
   "source": [
    "# Source"
   ]
  },
  {
   "cell_type": "code",
   "execution_count": null,
   "metadata": {},
   "outputs": [],
   "source": []
  },
  {
   "cell_type": "markdown",
   "metadata": {},
   "source": [
    "# Reference Receiver for shots"
   ]
  },
  {
   "cell_type": "code",
   "execution_count": null,
   "metadata": {},
   "outputs": [],
   "source": []
  },
  {
   "cell_type": "markdown",
   "metadata": {},
   "source": [
    "# Filtering and Normalizing the data"
   ]
  },
  {
   "cell_type": "markdown",
   "metadata": {},
   "source": []
  }
 ],
 "metadata": {
  "kernelspec": {
   "display_name": ".venv",
   "language": "python",
   "name": "python3"
  },
  "language_info": {
   "codemirror_mode": {
    "name": "ipython",
    "version": 3
   },
   "file_extension": ".py",
   "mimetype": "text/x-python",
   "name": "python",
   "nbconvert_exporter": "python",
   "pygments_lexer": "ipython3",
   "version": "3.7.9"
  }
 },
 "nbformat": 4,
 "nbformat_minor": 2
}
